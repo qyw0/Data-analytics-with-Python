{
 "cells": [
  {
   "cell_type": "code",
   "execution_count": null,
   "metadata": {
    "collapsed": true
   },
   "outputs": [],
   "source": [
    "#@author: Team 9\n",
    "         # Jason Houghton GWID: G35736696\n",
    "         # Kelly Berdelle GWID: G49887106\n",
    "         # Qinya Wang GWID: G37221074\n",
    "        # Yuebo Li GWID:G49243363\n",
    "         # Gaoshuang Zhu GWID: G26971985\n",
    "import tweepy\n",
    "import pandas as pd\n",
    "from textblob import TextBlob\n",
    "import numpy as np"
   ]
  },
  {
   "cell_type": "code",
   "execution_count": null,
   "metadata": {
    "collapsed": true
   },
   "outputs": [],
   "source": [
    "# Function to import Twitter authorization data from a csv.  Change file location to input csv.\n",
    "# Returns authorization data\n",
    "def getAuthData():\n",
    "    import csv\n",
    "    with open('authdata.csv', 'r') as f:\n",
    "        reader = csv.reader(f)\n",
    "        your_list = list(reader)\n",
    "\n",
    "    authdata = {}   \n",
    "    for element in your_list:\n",
    "        authdata[element[0]] = element[1]\n",
    "\n",
    "    return authdata"
   ]
  },
  {
   "cell_type": "code",
   "execution_count": null,
   "metadata": {
    "collapsed": true
   },
   "outputs": [],
   "source": [
    "# Function to get get tweets.\n",
    "# To avoid reaching the maximum number of Tweets allowed in all searches, reduce items from 1000 to \n",
    "# Inputs are a search term and the GPS coordinates for a state\n",
    "# Returns a string containing the tweets in the search result\n",
    "def getTweets(searchTerm,stateGPS):\n",
    "    \n",
    "    authdata = getAuthData()\n",
    "\n",
    "    CONSUMER_KEY = authdata['CONSUMER_KEY']\n",
    "    CONSUMER_SECRET = authdata['CONSUMER_SECRET']\n",
    "    OAUTH_TOKEN = authdata['OAUTH_TOKEN']\n",
    "    OAUTH_TOKEN_SECRET = authdata['OAUTH_TOKEN_SECRET']\n",
    "    \n",
    "    auth = tweepy.OAuthHandler(CONSUMER_KEY, CONSUMER_SECRET)\n",
    "    auth.set_access_token(OAUTH_TOKEN, OAUTH_TOKEN_SECRET)\n",
    "\n",
    "    api = tweepy.API(auth)\n",
    "    \n",
    "    public_tweets = tweepy.Cursor(api.search, q=searchTerm, geocode = stateGPS).items(1000)\n",
    "\n",
    "    results= []\n",
    "\n",
    "    for tweet in public_tweets:\n",
    "        results.append(tweet.text)\n",
    "    return results"
   ]
  },
  {
   "cell_type": "code",
   "execution_count": null,
   "metadata": {
    "collapsed": true
   },
   "outputs": [],
   "source": [
    "# Function to remove punctuation from a string\n",
    "# Inputs a string of Tweets\n",
    "# Returns a string of Tweets without punctuation\n",
    "def remove_punctuation(tweetString):\n",
    "    punctuation = \"!\\\"#$%&'()*+,-./:;<=>?@[\\\\]^_`{|}~\"\n",
    "    s_sans_punct = \"\"\n",
    "    for letter in tweetString:\n",
    "        if (letter not in punctuation) and (letter in \"abcdefghijklmnopqrstuvwxyz \"):\n",
    "            s_sans_punct += letter\n",
    "    return s_sans_punct"
   ]
  },
  {
   "cell_type": "code",
   "execution_count": null,
   "metadata": {
    "collapsed": true
   },
   "outputs": [],
   "source": [
    "# Function to change all characters to lower case text\n",
    "# Inputs a string of Tweets\n",
    "# Returns a string of Tweets in all lower case letters\n",
    "def getLowerCaseText(status_texts):\n",
    "    lowered_texts = []\n",
    "    for texts in status_texts:\n",
    "        try: \n",
    "            mytext = str(texts.lower())\n",
    "            lowered_texts.append(mytext)\n",
    "        except:\n",
    "            pass\n",
    "    return lowered_texts"
   ]
  },
  {
   "cell_type": "code",
   "execution_count": null,
   "metadata": {
    "collapsed": true
   },
   "outputs": [],
   "source": [
    "# Function to clean Tweets\n",
    "# Inputs a string of lowe case Tweets\n",
    "# Returns a string of cleaned Tweets\n",
    "def getCleanedTweets(lowered_texts):\n",
    "    cleanedTweets = []\n",
    "    for text in lowered_texts:\n",
    "        wordlist = str(text).split()\n",
    "        wordlist_nopun = [ str(remove_punctuation(for_a_word)) for for_a_word in wordlist ]\n",
    "        cleanedTweets.append(wordlist_nopun)\n",
    "    return cleanedTweets"
   ]
  },
  {
   "cell_type": "code",
   "execution_count": null,
   "metadata": {
    "collapsed": true
   },
   "outputs": [],
   "source": [
    "# Function to produce a sentiment score for a string of cleaned Tweets using TextBlob\n",
    "# Inputs a string of cleaned Tweets\n",
    "# Returns a sentiment score for a string of cleaned Tweets\n",
    "def score(CleanedTweet):\n",
    "    strCT = []\n",
    "    for i in CleanedTweet:\n",
    "        strCT.append(' '.join(i))\n",
    "    score= []     \n",
    "    for j in strCT:\n",
    "        analysis = TextBlob(j)\n",
    "        score.append(analysis.sentiment.polarity)\n",
    "    FormatScore = []\n",
    "    for x in score:\n",
    "        x = 50*(x+1)\n",
    "        FormatScore.append(x)\n",
    "    return FormatScore"
   ]
  },
  {
   "cell_type": "code",
   "execution_count": null,
   "metadata": {
    "collapsed": false
   },
   "outputs": [],
   "source": [
    "# Runs getTweets function for Trump and Clinton in Michigan\n",
    "trumpMItweets = getTweets('Trump','42.3314,-83.0458,120mi')\n",
    "clintonMItweets = getTweets('Clinton','42.3314,-83.0458,120mi')"
   ]
  },
  {
   "cell_type": "code",
   "execution_count": null,
   "metadata": {
    "collapsed": false
   },
   "outputs": [],
   "source": [
    "# Runs getTweets function for Trump and Clinton in Wisconsin\n",
    "trumpWStweets = getTweets('Trump','44.079148,-88.999748,150mi')\n",
    "clintonWStweets = getTweets('Clinton','44.079148,-88.999748,150mi')"
   ]
  },
  {
   "cell_type": "code",
   "execution_count": null,
   "metadata": {
    "collapsed": false
   },
   "outputs": [],
   "source": [
    "# Runs getTweets function for Trump and Clinton in Nevada\n",
    "trumpNVtweets = getTweets('Trump','39.195609,-116.332063,200mi')\n",
    "clintonNVtweets = getTweets('Clinton','39.195609,-116.332063,200mi')"
   ]
  },
  {
   "cell_type": "code",
   "execution_count": null,
   "metadata": {
    "collapsed": false
   },
   "outputs": [],
   "source": [
    "# Runs getTweets function for Trump and Clinton in Virginia\n",
    "trumpVAtweets = getTweets('Trump','37.536892,-77.432839,100mi')\n",
    "clintonVAtweets = getTweets('Clinton','37.536892,-77.432839,100mi')"
   ]
  },
  {
   "cell_type": "code",
   "execution_count": null,
   "metadata": {
    "collapsed": true
   },
   "outputs": [],
   "source": [
    "# Runs getLowerCaseText function for all Tweet strings\n",
    "LCT_trumpMI = getLowerCaseText(trumpMItweets) \n",
    "LCT_clintonMI =getLowerCaseText(clintonMItweets)\n",
    "\n",
    "LCT_trumpWS = getLowerCaseText(trumpWStweets) \n",
    "LCT_clintonWS =getLowerCaseText(clintonWStweets)\n",
    "\n",
    "LCT_trumpNV = getLowerCaseText(trumpNVtweets) \n",
    "LCT_clintonNV =getLowerCaseText(clintonNVtweets)\n",
    "\n",
    "LCT_trumpVA = getLowerCaseText(trumpVAtweets) \n",
    "LCT_clintonVA =getLowerCaseText(clintonVAtweets)"
   ]
  },
  {
   "cell_type": "code",
   "execution_count": null,
   "metadata": {
    "collapsed": true
   },
   "outputs": [],
   "source": [
    "# Runs getCleanedTweets function for all Tweet strings\n",
    "CT_trumpMI = getCleanedTweets(LCT_trumpMI)\n",
    "CT_clintonMI = getCleanedTweets(LCT_clintonMI)\n",
    "\n",
    "CT_trumpWS = getCleanedTweets(LCT_trumpWS)\n",
    "CT_clintonWS = getCleanedTweets(LCT_clintonWS)\n",
    "\n",
    "CT_trumpNV = getCleanedTweets(LCT_trumpNV)\n",
    "CT_clintonNV = getCleanedTweets(LCT_clintonNV)\n",
    "\n",
    "CT_trumpVA = getCleanedTweets(LCT_trumpVA)\n",
    "CT_clintonVA = getCleanedTweets(LCT_clintonVA)"
   ]
  },
  {
   "cell_type": "code",
   "execution_count": null,
   "metadata": {
    "collapsed": true
   },
   "outputs": [],
   "source": [
    "# Runs score function for all cleaned Tweet strings\n",
    "score_trumpMI = score(CT_trumpMI)\n",
    "trumpMI = np.mean(score_trumpMI)\n",
    "score_clintonMI = score(CT_clintonMI)\n",
    "clintonMI = np.mean(score_clintonMI)\n",
    "\n",
    "score_trumpWS = score(CT_trumpWS)\n",
    "trumpWS = np.mean(score_trumpWS)\n",
    "score_clintonWS = score(CT_clintonWS)\n",
    "clintonWS = np.mean(score_clintonWS) \n",
    "\n",
    "score_trumpNV = score(CT_trumpNV)\n",
    "trumpNV = np.mean(score_trumpNV) \n",
    "score_clintonNV = score(CT_clintonNV)\n",
    "clintonNV = np.mean(score_clintonNV) \n",
    "\n",
    "score_trumpVA = score(CT_trumpVA)\n",
    "trumpVA = np.mean(score_trumpVA) \n",
    "score_clintonVA = score(CT_clintonVA)\n",
    "clintonVA = np.mean(score_clintonVA) "
   ]
  },
  {
   "cell_type": "code",
   "execution_count": null,
   "metadata": {
    "collapsed": false
   },
   "outputs": [],
   "source": [
    "# Creates plot of sentiment scores for Clinton and Trump Tweets in each of the selected swing states\n",
    "plotList = [{'Clinton' : clintonMI,'Trump': trumpMI}, \n",
    "        {'Clinton' : clintonWS, 'Trump': trumpWS},\n",
    "        {'Clinton' : clintonNV, 'Trump': trumpNV},\n",
    "        {'Clinton' : clintonVA, 'Trump': trumpVA}]\n",
    "\n",
    "table = pd.DataFrame(plotList, index = ['Michigan', 'Wisconsin', 'Nevada', 'Virginia'])\n",
    "\n",
    "table.plot.barh(stacked = False, title= 'Clinton and Trump', color= ['b', 'r'], grid= True).legend(loc='center left',bbox_to_anchor=(1,0.5))"
   ]
  },
  {
   "cell_type": "code",
   "execution_count": null,
   "metadata": {
    "collapsed": true
   },
   "outputs": [],
   "source": []
  }
 ],
 "metadata": {
  "anaconda-cloud": {},
  "kernelspec": {
   "display_name": "Python [Root]",
   "language": "python",
   "name": "Python [Root]"
  },
  "language_info": {
   "codemirror_mode": {
    "name": "ipython",
    "version": 3
   },
   "file_extension": ".py",
   "mimetype": "text/x-python",
   "name": "python",
   "nbconvert_exporter": "python",
   "pygments_lexer": "ipython3",
   "version": "3.5.2"
  }
 },
 "nbformat": 4,
 "nbformat_minor": 0
}
