{
 "cells": [
  {
   "cell_type": "markdown",
   "metadata": {},
   "source": [
    "Group9: Kelly Berdelle, Jason Houghton, Yuebo Li, Qinya Wang, Gaoshuang Zhu"
   ]
  },
  {
   "cell_type": "code",
   "execution_count": 1,
   "metadata": {
    "collapsed": true
   },
   "outputs": [],
   "source": [
    "import tweepy\n",
    "import csv\n",
    "from tweepy import Stream\n",
    "from tweepy.streaming import StreamListener\n",
    "import re\n",
    "from textblob import TextBlob"
   ]
  },
  {
   "cell_type": "code",
   "execution_count": 2,
   "metadata": {
    "collapsed": false
   },
   "outputs": [
    {
     "data": {
      "text/plain": [
       "{'Access_Token': '349710349-SCQO1KIi3VSQytQinCHvCzKgWlS9zMdEsOTCvqA7',\n",
       " 'Access_Token_Secret': 'LOZKO4mojBFu2nCUn7kxoTXJQE3gnI7ZXaDH4hJuVeH5c',\n",
       " 'Consumer_Key': '1vnncA8ZE0lJC4U0cqKJOeX3n',\n",
       " 'Consumer_Secret': 'cKawPhcPzGrSZneIFNUnHOpAmLXNTxN7lVb230ajyoTi1hZ2cK'}"
      ]
     },
     "execution_count": 2,
     "metadata": {},
     "output_type": "execute_result"
    }
   ],
   "source": [
    "with open('auth.csv', 'r') as f:\n",
    "    reader = csv.reader(f)\n",
    "    your_list = list(reader)\n",
    "authdata = {}   \n",
    "for element in your_list:\n",
    "    authdata[element[0]] = element[1]\n",
    "authdata"
   ]
  },
  {
   "cell_type": "code",
   "execution_count": 14,
   "metadata": {
    "collapsed": false
   },
   "outputs": [],
   "source": [
    "Consumer_Key = authdata['Consumer_Key']\n",
    "Consumer_Secret = authdata['Consumer_Secret']\n",
    "Access_Token = authdata['Access_Token']\n",
    "Access_Token_Secret = authdata['Access_Token_Secret']\n",
    "auth = tweepy.OAuthHandler(Consumer_Key, Consumer_Secret)\n",
    "auth.set_access_token(Access_Token, Access_Token_Secret)\n",
    "api = tweepy.API(auth)"
   ]
  },
  {
   "cell_type": "markdown",
   "metadata": {},
   "source": [
    "Set up the Listener"
   ]
  },
  {
   "cell_type": "code",
   "execution_count": 95,
   "metadata": {
    "collapsed": false
   },
   "outputs": [],
   "source": [
    "def gettweets(search, loc, filename):\n",
    "    class MyListener(StreamListener):\n",
    "        def __init__(self, api=None):#this fuction limits the number of tweets we get\n",
    "            super(MyListener, self).__init__()\n",
    "            self.num_tweets = 0\n",
    "        def on_status(self, status):#this function overrides the on_status method and writes tweets to JSON file       \n",
    "            try:\n",
    "                text = status.text.encode(\"utf8\",\"ignore\")\n",
    "                text = str(text)+'\\n'\n",
    "                self.num_tweets += 1\n",
    "                if self.num_tweets < 500:\n",
    "                    with open(filename, 'a') as f:\n",
    "                        \n",
    "                            f.write(text[2:])\n",
    "                            return True\n",
    "                else:\n",
    "                    return False\n",
    "            except (TypeError,AttributeError) as e:\n",
    "                print(str(e))\n",
    "            return True\n",
    " \n",
    "        def on_error(self, status):#this fuction override the on_error method so that we can handle errors from the properly\n",
    "            if status_code == 420:\n",
    "                return False\n",
    "    twitter_stream = Stream(auth, MyListener())\n",
    "    twitter_stream.filter(track=[search], locations=loc)"
   ]
  },
  {
   "cell_type": "markdown",
   "metadata": {},
   "source": [
    "Define funtions that cleans the text"
   ]
  },
  {
   "cell_type": "code",
   "execution_count": 96,
   "metadata": {
    "collapsed": false
   },
   "outputs": [],
   "source": [
    "def remove_punctuation(s):    \n",
    "    punctuation = \"\\\\#$%&'()*+-/:;<=>@[\\\\]^_`{|}~\"\n",
    "    s_sans_punct = \"\"\n",
    "    for letter in s:\n",
    "        if (letter not in punctuation) and (letter in \"abcdefghijklmnopqrstuvwxyz \"):\n",
    "            s_sans_punct += letter\n",
    "    return s_sans_punct\n",
    "\n",
    "def getLowerCaseText(status_texts):\n",
    "    lowered_texts = ''\n",
    "    for texts in status_texts:\n",
    "        try: \n",
    "            mytext = str(texts.lower())\n",
    "            lowered_texts = lowered_texts + mytext\n",
    "        except:\n",
    "            pass\n",
    "    return lowered_texts\n",
    "\n",
    "def removeUrl(text):\n",
    "    s = re.sub(r\"http\\S+\", \"\", text)\n",
    "    return s"
   ]
  },
  {
   "cell_type": "code",
   "execution_count": 17,
   "metadata": {
    "collapsed": true
   },
   "outputs": [],
   "source": [
    "def clean(file):   \n",
    "    with open(file, 'r') as f:\n",
    "        text = []\n",
    "        for line in f:\n",
    "            s = removeUrl(line)\n",
    "            lowered_texts = getLowerCaseText(s)\n",
    "            cleantext = remove_punctuation(lowered_texts)\n",
    "            text.append(cleantext)\n",
    "    return text"
   ]
  },
  {
   "cell_type": "markdown",
   "metadata": {},
   "source": [
    "Define the function that generates scores"
   ]
  },
  {
   "cell_type": "code",
   "execution_count": 97,
   "metadata": {
    "collapsed": false
   },
   "outputs": [],
   "source": [
    "def analysis(text):\n",
    "    count = 0\n",
    "    pol = 0\n",
    "    for line in text:\n",
    "        blob = TextBlob(line)\n",
    "        count+=1\n",
    "        pol += blob.sentiment.polarity\n",
    "    return 50*(1 + pol/count)"
   ]
  },
  {
   "cell_type": "markdown",
   "metadata": {},
   "source": [
    "**If error happens, wait for about half minute and run again. It will finaly worked!**"
   ]
  },
  {
   "cell_type": "code",
   "execution_count": 55,
   "metadata": {
    "collapsed": false
   },
   "outputs": [
    {
     "name": "stdout",
     "output_type": "stream",
     "text": [
      "53.27999077761102\n"
     ]
    }
   ],
   "source": [
    "gettweets('trump',[-86.8,41.87,-82.54,45.35],'tr_mi.json')\n",
    "text = clean('tr_mi.json')\n",
    "t_mi_score = analysis(text)\n",
    "print (t_mi_score)"
   ]
  },
  {
   "cell_type": "code",
   "execution_count": 56,
   "metadata": {
    "collapsed": false
   },
   "outputs": [
    {
     "name": "stdout",
     "output_type": "stream",
     "text": [
      "52.12172339508261\n"
     ]
    }
   ],
   "source": [
    "gettweets('clinton',[-86.8,41.87,-82.54,45.35],'cl_mi.json')\n",
    "text = clean('cl_mi.json')\n",
    "c_mi_score = analysis(text)\n",
    "print (c_mi_score)"
   ]
  },
  {
   "cell_type": "code",
   "execution_count": 57,
   "metadata": {
    "collapsed": false
   },
   "outputs": [
    {
     "name": "stdout",
     "output_type": "stream",
     "text": [
      "54.70039224673493\n"
     ]
    }
   ],
   "source": [
    "gettweets('trump',[-115.7,35.6,-114,38, -118.5,38,-114,42],'tr_nv.json')\n",
    "text = clean('tr_nv.json')\n",
    "t_nv_score = analysis(text)\n",
    "print (t_nv_score)"
   ]
  },
  {
   "cell_type": "code",
   "execution_count": 58,
   "metadata": {
    "collapsed": false
   },
   "outputs": [
    {
     "name": "stdout",
     "output_type": "stream",
     "text": [
      "53.13686430701712\n"
     ]
    }
   ],
   "source": [
    "gettweets('clinton',[-115.7,35.6,-114,38, -118.5,38,-114,42],'cl_nv.json')\n",
    "text = clean('cl_nv.json')\n",
    "c_nv_score = analysis(text)\n",
    "print (c_nv_score)"
   ]
  },
  {
   "cell_type": "code",
   "execution_count": 99,
   "metadata": {
    "collapsed": false
   },
   "outputs": [
    {
     "name": "stdout",
     "output_type": "stream",
     "text": [
      "51.01271728847044\n"
     ]
    }
   ],
   "source": [
    "gettweets('trump',[-90.5,42.5,-87,45, -92.5,45,-88,45.7],'tr_wi.json')\n",
    "text = clean('tr_wi.json')\n",
    "t_wi_score = analysis(text)\n",
    "print (t_wi_score)"
   ]
  },
  {
   "cell_type": "code",
   "execution_count": 98,
   "metadata": {
    "collapsed": false
   },
   "outputs": [
    {
     "name": "stdout",
     "output_type": "stream",
     "text": [
      "50.19404814923628\n"
     ]
    }
   ],
   "source": [
    "gettweets('clinton',[-90.5,42.5,-87,45, -92.5,45,-88,45.7],'cl_wi.json')\n",
    "text = clean('cl_wi.json')\n",
    "c_wi_score = analysis(text)\n",
    "print (c_wi_score)"
   ]
  }
 ],
 "metadata": {
  "anaconda-cloud": {},
  "kernelspec": {
   "display_name": "Python [Root]",
   "language": "python",
   "name": "Python [Root]"
  },
  "language_info": {
   "codemirror_mode": {
    "name": "ipython",
    "version": 3
   },
   "file_extension": ".py",
   "mimetype": "text/x-python",
   "name": "python",
   "nbconvert_exporter": "python",
   "pygments_lexer": "ipython3",
   "version": "3.5.2"
  }
 },
 "nbformat": 4,
 "nbformat_minor": 0
}
